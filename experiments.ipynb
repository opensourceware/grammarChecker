{
 "cells": [
  {
   "cell_type": "code",
   "execution_count": 1,
   "metadata": {
    "collapsed": false
   },
   "outputs": [
    {
     "name": "stdout",
     "output_type": "stream",
     "text": [
      "Vocab size: 49816\n",
      "Bigram size: 429075\n"
     ]
    }
   ],
   "source": [
    "import numpy as np\n",
    "import nltk\n",
    "import math\n",
    "from nltk.corpus import brown\n",
    "import EM\n",
    "\n",
    "sents = brown.sents()\n",
    "train_sentences = []\n",
    "for sent in sents:\n",
    "\tfor ind, item in enumerate(sent):\n",
    "\t\tsent[ind] = item.lower()                        # lowercase all words in the corpus\n",
    "\tsent.append('END')                                  # append END symbol to all sentences\n",
    "\ttrain_sentences.append(sent)\n",
    "(word_to_id, bigram_to_id) = EM.create_mapping(train_sentences)\n",
    "vocab_size = len(word_to_id)\n",
    "bigram_size = len(bigram_to_id)\n",
    "print 'Vocab size: '+str(vocab_size)\n",
    "print 'Bigram size: '+str(bigram_size)"
   ]
  },
  {
   "cell_type": "code",
   "execution_count": 3,
   "metadata": {
    "collapsed": false
   },
   "outputs": [
    {
     "name": "stdout",
     "output_type": "stream",
     "text": [
      "Expected count of word fawn is: 1.0\n",
      "Actual counts of word fawn is: 1\n",
      "Expected count of word belligerence is: 2.0\n",
      "Actual counts of word belligerence is: 2\n",
      "Expected count of word mid-week is: 1.0\n",
      "Actual counts of word mid-week is: 1\n",
      "Expected count of word 1,800 is: 1.0\n",
      "Actual counts of word 1,800 is: 1\n",
      "Expected count of word deferment is: 1.0\n",
      "Actual counts of word deferment is: 1\n",
      "Row_col_sum for transmission matrix: 49816.3623068\n"
     ]
    }
   ],
   "source": [
    "import EM\n",
    "\n",
    "#Other user defined parameters\n",
    "latentclass_size = 3\n",
    "iterations = 3\n",
    "#Create EMPredictor object\n",
    "EMPredictor = EM.BigramEM(vocab_size, latentclass_size, bigram_size)\n",
    "#Run iterations of the EM algorithm\n",
    "for i in range(iterations):\n",
    "    EMPredictor.EStep(word_to_id, bigram_to_id)\n",
    "    EMPredictor.MStep(word_to_id, bigram_to_id)\n",
    "\n",
    "calculate_expected_count = True\n",
    "#Perform one more iteration\n",
    "EMPredictor.EStep(word_to_id, bigram_to_id)\n",
    "EMPredictor.MStep(word_to_id, bigram_to_id, train_sentences, calculate_expected_count)\n",
    "\n",
    "row_column_sum = 0\n",
    "for i in range(latentclass_size):\n",
    "    row_column_sum += sum(EMPredictor.transitionMatrix[i, :])\n",
    "print 'Row_col_sum for transmission matrix: ' + str(row_column_sum)"
   ]
  },
  {
   "cell_type": "code",
   "execution_count": 6,
   "metadata": {
    "collapsed": false
   },
   "outputs": [
    {
     "name": "stdout",
     "output_type": "stream",
     "text": [
      "iteration 0 Per Token Likelihood -6.8532137775\n",
      "iteration 1 Per Token Likelihood -6.8015947837\n",
      "iteration 2 Per Token Likelihood -6.73313628366\n",
      "iteration 3 Per Token Likelihood -6.66636360932\n",
      "iteration 4 Per Token Likelihood -6.61820555599\n",
      "iteration 5 Per Token Likelihood -6.58149925872\n",
      "iteration 6 Per Token Likelihood -6.55329341682\n",
      "iteration 7 Per Token Likelihood -6.53225469964\n",
      "iteration 8 Per Token Likelihood -6.51612402125\n",
      "iteration 9 Per Token Likelihood -6.50345503978\n",
      "iteration 10 Per Token Likelihood -6.49401223349\n",
      "iteration 11 Per Token Likelihood -6.48696100974\n",
      "iteration 12 Per Token Likelihood -6.48134617363\n",
      "iteration 13 Per Token Likelihood -6.47675828146\n",
      "iteration 14 Per Token Likelihood -6.4729377809\n",
      "iteration 15 Per Token Likelihood -6.46965840763\n",
      "iteration 16 Per Token Likelihood -6.4668159663\n",
      "iteration 17 Per Token Likelihood -6.46441857372\n",
      "iteration 18 Per Token Likelihood -6.46239591947\n",
      "iteration 19 Per Token Likelihood -6.46064248984\n"
     ]
    }
   ],
   "source": [
    "iterations = 20\n",
    "for i in range(iterations):\n",
    "\tEMPredictor.EStep(word_to_id, bigram_to_id)\n",
    "\tEMPredictor.MStep(word_to_id, bigram_to_id)\n",
    "\tTokLL = EMPredictor.corpusLL(train_sentences, word_to_id)\n",
    "\tprint 'iteration '+str(i)+' Per Token Likelihood '+str(TokLL)"
   ]
  },
  {
   "cell_type": "code",
   "execution_count": 3,
   "metadata": {
    "collapsed": false
   },
   "outputs": [
    {
     "data": {
      "image/png": "[encoded data removed]",
      "text/plain": [
       "<matplotlib.figure.Figure at 0x7fbdd6ddaed0>"
      ]
     },
     "metadata": {},
     "output_type": "display_data"
    }
   ],
   "source": [
    "import matplotlib.pyplot as plt\n",
    "%matplotlib inline\n",
    "\n",
    "latentclass_size = 3\n",
    "iterations = 20\n",
    "numplot = 3\n",
    "colourDict = {0:'r', 1:'b', 2:'g'}\n",
    "iterlist = [i+1 for i in range(iterations)]\n",
    "\n",
    "for n in range(numplot):\n",
    "\tLLlist = []\n",
    "\tEMPredictor = EM.BigramEM(vocab_size, latentclass_size, bigram_size)\n",
    "\tfor i in range(iterations):\n",
    "\t\tEMPredictor.EStep(word_to_id, bigram_to_id)\n",
    "\t\tEMPredictor.MStep(word_to_id, bigram_to_id)\n",
    "\t\tTokLL = EMPredictor.corpusLL(train_sentences, word_to_id)\n",
    "\t\tLLlist.append(TokLL)\n",
    "\tcolour = colourDict[n]\n",
    "\tplt.plot(iterlist, LLlist, colour)\n",
    "\n",
    "plt.show()\n"
   ]
  },
  {
   "cell_type": "code",
   "execution_count": 12,
   "metadata": {
    "collapsed": false,
    "scrolled": true
   },
   "outputs": [
    {
     "name": "stdout",
     "output_type": "stream",
     "text": [
      "Log Likelihood for the sentence \"colorless green ideas sleep furiously\" -41.693660641\n",
      "Log Likelihood for the sentence \"furiously sleep ideas green colorless\" -51.5500567322\n",
      "Prob Ratio of the above sentences is 19080.00279\n"
     ]
    }
   ],
   "source": [
    "EMPredictor = EM.BigramEM(vocab_size, latentclass_size, bigram_size)\n",
    "for i in range(iterations):\n",
    "\tEMPredictor.EStep(word_to_id, bigram_to_id)\n",
    "\tEMPredictor.MStep(word_to_id, bigram_to_id)\n",
    "\n",
    "sent = ['colorless', 'green', 'ideas', 'sleep', 'furiously']\n",
    "LLsent1 = EMPredictor.LL(sent, word_to_id)\n",
    "print 'Log Likelihood for the sentence \"colorless green ideas sleep furiously\" '+str(LLsent1)\n",
    "sent = ['furiously', 'sleep', 'ideas', 'green', 'colorless']\n",
    "LLsent2 = EMPredictor.LL(sent, word_to_id)\n",
    "print 'Log Likelihood for the sentence \"furiously sleep ideas green colorless\" '+str(LLsent2)\n",
    "ratio = math.exp(LLsent1-LLsent2)\n",
    "print 'Prob Ratio of the above sentences is '+str(ratio)"
   ]
  },
  {
   "cell_type": "code",
   "execution_count": 27,
   "metadata": {
    "collapsed": false
   },
   "outputs": [
    {
     "name": "stdout",
     "output_type": "stream",
     "text": [
      "-66.47456782\n",
      "-69.3822228393\n",
      "-72.3147508639\n",
      "-43.2474741155\n",
      "-97.9097414323\n",
      "-94.6832952548\n"
     ]
    }
   ],
   "source": [
    "sent = ['a', 'rose', 'by', 'any', 'other', 'name', 'would', 'smell', 'as', 'sweet', 'END']\n",
    "print 'EMPredictor.LL(sent, word_to_id)\n",
    "sent = ['a', 'smell', 'would', 'sweet', 'name', 'any', 'rose', 'as', 'by', 'other', 'END']\n",
    "print EMPredictor.LL(sent, word_to_id)\n",
    "sent = ['all', 'is', 'well', 'that', 'ends', 'well', 'END']\n",
    "print EMPredictor.LL(sent, word_to_id)\n",
    "sent = ['is','well', 'that', 'well', 'ends', 'all', 'END']\n",
    "print EMPredictor.LL(sent, word_to_id)\n",
    "sent = ['in', 'politics', ',', 'never', 'retreat', ',', 'never', 'admit', 'a', 'mistake', 'END']\n",
    "print EMPredictor.LL(sent, word_to_id)\n",
    "sent = ['mistake', 'politics', ',', 'never', 'in', 'a', 'retreat', 'admit', ',', 'never', 'END']\n",
    "print EMPredictor.LL(sent, word_to_id)"
   ]
  }
 ],
 "metadata": {
  "kernelspec": {
   "display_name": "Python 2",
   "language": "python",
   "name": "python2"
  },
  "language_info": {
   "codemirror_mode": {
    "name": "ipython",
    "version": 2
   },
   "file_extension": ".py",
   "mimetype": "text/x-python",
   "name": "python",
   "nbconvert_exporter": "python",
   "pygments_lexer": "ipython2",
   "version": "2.7.6"
  }
 },
 "nbformat": 4,
 "nbformat_minor": 0
}
